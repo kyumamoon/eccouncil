{
 "cells": [
  {
   "attachments": {},
   "cell_type": "markdown",
   "metadata": {},
   "source": [
    "Penetration testing is becoming one of the most important roles in information security with the increased need and importance for companies and organizations to secure their digital infrastructure. Windows plays an integral role in the digital infrastructure of a company, as a result, it is one of the most targeted operating systems by attackers. This has led to an increased demand for skilled penetration testers experienced in testing and exploiting the Windows operating system.\n",
    "\n",
    "In this course, you will learn the essentials of windows penetration testing from performing information gathering and service enumeration to exploitation and privilege escalation. You will learn how to identify vulnerabilities in Windows-specific services and how to exploit powerful vulnerabilities like EternalBlue.\n",
    "\n",
    "By the end of this course, you will learn how to effectively perform penetration tests and identify and exploit vulnerabilities on Windows systems."
   ]
  },
  {
   "attachments": {},
   "cell_type": "markdown",
   "metadata": {},
   "source": [
    "---\n",
    "\n",
    "# **Setting up Kali VM on VirtualBox**"
   ]
  },
  {
   "attachments": {},
   "cell_type": "markdown",
   "metadata": {},
   "source": [
    "1. Download VirtualBox\n",
    "2. Download Kali VM VirtualBox image.\n",
    "3. Setup Kali VM\n",
    "    - Setup RAM\n",
    "    - Setup Network to be Bridged"
   ]
  },
  {
   "attachments": {},
   "cell_type": "markdown",
   "metadata": {},
   "source": [
    "# **Setting up a Virtual Hacking Lab**\n",
    "\n",
    "1. Create a NAT Network in VirtualBox\n",
    "2. Get metasploitable3\n",
    "    - Get Vagrant\n",
    "    - Get packer and setup PATH\n",
    "    - Change metasplotable3 powershell script to reflect VirtualBox, Vagrant directory path.\n",
    "3. Run powershell command in metasploitable3 directory.\n",
    "    - .\\build.ps1 windows2008\n",
    "4. Get Windows 7 ISO and install onto VirtualBox\n",
    "5. Set all 3 VM to be on same NAT network.\n",
    "    - check in kali linux to see if all ip of machines are on same network.\n",
    "    - Using:\n",
    "        - sudo netdiscover -i eth0 -r \\<NAT IP\\>\n",
    "        - Example: sudo netdiscover -i eth0 -r 10.0.0.0\\24"
   ]
  },
  {
   "attachments": {},
   "cell_type": "markdown",
   "metadata": {},
   "source": [
    "# **Setting up Windows 10**\n",
    "\n",
    "1. Download Wins 10 ISO\n",
    "2. Setup VMBox for Wins 10 and have it in same NAT Networks"
   ]
  }
 ],
 "metadata": {
  "language_info": {
   "name": "python"
  },
  "orig_nbformat": 4
 },
 "nbformat": 4,
 "nbformat_minor": 2
}
