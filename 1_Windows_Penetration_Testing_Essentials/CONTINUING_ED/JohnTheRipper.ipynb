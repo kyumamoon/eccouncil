{
 "cells": [
  {
   "attachments": {},
   "cell_type": "markdown",
   "metadata": {},
   "source": [
    "# **Modes**\n",
    "\n",
    "- Single Crack Mode:\n",
    "    - uses built in info from the computer to guess.\n",
    "    - example: usernames, full names, dates, etc.\n",
    "- Wordlist mode:\n",
    "    - uses a list of words to use in the attack.\n",
    "- Incremental mode:\n",
    "    - equivalent to brute force."
   ]
  },
  {
   "attachments": {},
   "cell_type": "markdown",
   "metadata": {},
   "source": [
    "**Usage**\n",
    "- john \\<file\\>\n",
    "    - default process: single crack > wordlist > brute-force\n",
    "- man john\n",
    "    - manual doc for john."
   ]
  }
 ],
 "metadata": {
  "language_info": {
   "name": "python"
  },
  "orig_nbformat": 4
 },
 "nbformat": 4,
 "nbformat_minor": 2
}
