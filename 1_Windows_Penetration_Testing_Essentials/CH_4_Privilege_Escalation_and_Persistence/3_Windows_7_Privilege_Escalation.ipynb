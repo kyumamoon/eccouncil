{
 "cells": [
  {
   "attachments": {},
   "cell_type": "markdown",
   "metadata": {},
   "source": [
    "# **Windows 7 Privilege Escalation**"
   ]
  },
  {
   "attachments": {},
   "cell_type": "markdown",
   "metadata": {},
   "source": [
    "- Post Exploitation Step\n",
    "    - Escalating Privileges."
   ]
  },
  {
   "attachments": {},
   "cell_type": "markdown",
   "metadata": {},
   "source": [
    "**Metersploit Suggester Module**\n",
    "- a module that suggests potential exploits on target system.\n",
    "- search suggester\n",
    "    - use post/multi/recon/local_exploit_suggester\n",
    "    - set session to active sessions\n",
    "    - run\n",
    "- list of exploits will show\n",
    "- test each potential exploit to see if it can execute a specified payload onto target.\n",
    "- migrate to a PID to change privilege"
   ]
  }
 ],
 "metadata": {
  "language_info": {
   "name": "python"
  },
  "orig_nbformat": 4
 },
 "nbformat": 4,
 "nbformat_minor": 2
}
