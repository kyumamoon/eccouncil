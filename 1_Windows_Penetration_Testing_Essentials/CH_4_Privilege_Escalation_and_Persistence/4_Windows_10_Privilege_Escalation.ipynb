{
 "cells": [
  {
   "attachments": {},
   "cell_type": "markdown",
   "metadata": {},
   "source": [
    "# **Windows 10 Privilege Escalation**"
   ]
  },
  {
   "attachments": {},
   "cell_type": "markdown",
   "metadata": {},
   "source": [
    "- Must have an active payload exploited onto windows 10 target.\n",
    "- Do suggester module to try potential exploits to try and escalate the privileges to ADMIN."
   ]
  }
 ],
 "metadata": {
  "language_info": {
   "name": "python"
  },
  "orig_nbformat": 4
 },
 "nbformat": 4,
 "nbformat_minor": 2
}
