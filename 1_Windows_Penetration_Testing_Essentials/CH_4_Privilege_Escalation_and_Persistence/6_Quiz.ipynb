{
 "cells": [
  {
   "attachments": {},
   "cell_type": "markdown",
   "metadata": {},
   "source": [
    "- What meterpreter command displays system information?\n",
    "    - sysinfo\n",
    "- What command is used to migrate from one process to another?\n",
    "    - migrate \\<PID\\>"
   ]
  }
 ],
 "metadata": {
  "language_info": {
   "name": "python"
  },
  "orig_nbformat": 4
 },
 "nbformat": 4,
 "nbformat_minor": 2
}
