{
 "cells": [
  {
   "attachments": {},
   "cell_type": "markdown",
   "metadata": {},
   "source": [
    "# **Clearing Event Logs**"
   ]
  },
  {
   "attachments": {},
   "cell_type": "markdown",
   "metadata": {},
   "source": [
    "- Important to clear tracks in post exploitation.\n",
    "- Basic tracker is event log on windows.\n",
    "\n",
    "**Meterpreter built in module for cleanup**\n",
    "- clearev\n",
    "    - clears event log"
   ]
  }
 ],
 "metadata": {
  "language_info": {
   "name": "python"
  },
  "orig_nbformat": 4
 },
 "nbformat": 4,
 "nbformat_minor": 2
}
