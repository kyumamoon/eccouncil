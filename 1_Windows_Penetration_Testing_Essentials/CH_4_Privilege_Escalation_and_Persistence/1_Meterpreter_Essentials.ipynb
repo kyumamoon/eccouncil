{
 "cells": [
  {
   "attachments": {},
   "cell_type": "markdown",
   "metadata": {},
   "source": [
    "# **Meterpreter Essentials**\n",
    "\n",
    "- \"?\" command while meterpreter is active to show commands\n",
    "- cant have two meterpreter sessions on same port (default 4444)"
   ]
  },
  {
   "attachments": {},
   "cell_type": "markdown",
   "metadata": {},
   "source": [
    "**Commands**\n",
    "\n",
    "- sysinfo\n",
    "    - lists out important information about the system\n",
    "- getuser\n",
    "    - what user meterpreter logged in as on target system\n",
    "- getuid\n",
    "    - gets user session id of migrated meterpreter session\n",
    "- shell\n",
    "    - opens command prompt\n",
    "    - exit to return to meterpreter\n",
    "    - command prompt is different than meterpreter because its limited to WINDOWS commands.\n",
    "- ps\n",
    "    - lists out all processes.\n",
    "- pgrep \\<name\\>\n",
    "    - searches the process id (PID) of a service name\n",
    "- migrate \\<PID\\>\n",
    "    - migrates meterpreter into a process session\n",
    "- getsystem\n",
    "- hashdump\n",
    "    - dump hashes from the system (for password cracking)\n",
    "- background\n",
    "    - moves meterpreter session to background\n",
    "- sessions\n",
    "    - views all meterpreter sessions\n",
    "- sessions \\<ID\\>\n",
    "    - enter a meterpreter session\n",
    "- uictl \\<enable/disable\\> <keyboard/mouse>\n",
    "    - for usb devices\n",
    "- execute -f \\<exeFILE\\>\n",
    "    - runs exe files.\n",
    "- kill \\<PID\\>\n",
    "    - kills processes\n"
   ]
  },
  {
   "attachments": {},
   "cell_type": "markdown",
   "metadata": {},
   "source": [
    "**Uploading/Downloading To/From Target**"
   ]
  },
  {
   "attachments": {},
   "cell_type": "markdown",
   "metadata": {},
   "source": [
    "- Uploading file to working directory of target.\n",
    "    - upload \\<filename\\>\n",
    "- Downloading file from target to host working directory.\n",
    "    - download \\<filename\\>"
   ]
  }
 ],
 "metadata": {
  "language_info": {
   "name": "python"
  },
  "orig_nbformat": 4
 },
 "nbformat": 4,
 "nbformat_minor": 2
}
