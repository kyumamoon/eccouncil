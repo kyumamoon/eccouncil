{
 "cells": [
  {
   "attachments": {},
   "cell_type": "markdown",
   "metadata": {},
   "source": [
    "# **Metasploit Essentials**\n",
    "\n",
    "- What is metasploit?\n",
    "    - an exploitation and penetration framework that is written in Ruby.\n",
    "\n",
    "- Functionality\n",
    "    - Uses modules\n"
   ]
  },
  {
   "attachments": {},
   "cell_type": "markdown",
   "metadata": {},
   "source": [
    "**Structure of Metasploit**\n",
    "\n",
    "- Modules (Ordered and sorted by functionality)\n",
    "    - Auxiliary (perform scans)\n",
    "    - Encoders\n",
    "    - Evasion\n",
    "    - Exploits (sorted by OS/Platform)\n",
    "    - Nops\n",
    "    - Payloads\n",
    "    - Post"
   ]
  },
  {
   "attachments": {},
   "cell_type": "markdown",
   "metadata": {},
   "source": [
    "**Starting Framework**\n",
    "\n",
    "1. Ensure postgresql is running so module searching is quick for metasploit.\n",
    "    - sudo systemctl start postgresql\n",
    "2. Start metasploit database\n",
    "    - msfdb\n",
    "        - msfdb init\n",
    "3. Start metasploit console\n",
    "    - msfconsole\n",
    "        - help, shows help document"
   ]
  },
  {
   "attachments": {},
   "cell_type": "markdown",
   "metadata": {},
   "source": [
    "**Basic Usage of Framework Modules**\n",
    "- Showing exploits\n",
    "    - show exploits\n",
    "- Searching exploits\n",
    "    - search \\<explotname\\>\n",
    "- Using exploits\n",
    "    - use \\<exploitname\\>\n",
    "    - show options\n",
    "    - set \\<OPTION NAME\\> \\<PARAMETER\\>\n",
    "    - run, to run module\n",
    "- Leaving module\n",
    "    - back\n",
    "- Exiting Framework\n",
    "    - exit"
   ]
  }
 ],
 "metadata": {
  "language_info": {
   "name": "python"
  },
  "orig_nbformat": 4
 },
 "nbformat": 4,
 "nbformat_minor": 2
}
