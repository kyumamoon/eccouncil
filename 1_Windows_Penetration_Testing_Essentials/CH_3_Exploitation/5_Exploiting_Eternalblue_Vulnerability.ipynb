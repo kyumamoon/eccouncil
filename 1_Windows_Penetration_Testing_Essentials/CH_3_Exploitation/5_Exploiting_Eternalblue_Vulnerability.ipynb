{
 "cells": [
  {
   "attachments": {},
   "cell_type": "markdown",
   "metadata": {},
   "source": [
    "# **Exploiting Eternal Blue Vulnerability**"
   ]
  },
  {
   "attachments": {},
   "cell_type": "markdown",
   "metadata": {},
   "source": [
    "- Targeting Win 7 and older.\n",
    "- EternalBlue is an exploit that allows attacker to remotely execute arbitrary code and gain access to network by sending specially crafted packets.\n",
    "    - Exploits a vulnerability in MS Windows Server Message BLOCK version 1 (SMBv1) protocol. A network file sharing protocol that allows access to files on a remote server.\n",
    "    - WannaCry crypto-ransomeware used EternalBlue to spread itself across network and spread its payload."
   ]
  }
 ],
 "metadata": {
  "language_info": {
   "name": "python"
  },
  "orig_nbformat": 4
 },
 "nbformat": 4,
 "nbformat_minor": 2
}
