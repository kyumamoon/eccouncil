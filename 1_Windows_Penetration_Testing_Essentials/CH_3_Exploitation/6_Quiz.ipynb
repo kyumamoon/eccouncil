{
 "cells": [
  {
   "attachments": {},
   "cell_type": "markdown",
   "metadata": {},
   "source": [
    "- What command to open msf console?\n",
    "    - msfconsole\n",
    "- What database need to use metasploitable?\n",
    "    - PostgreSQL"
   ]
  }
 ],
 "metadata": {
  "language_info": {
   "name": "python"
  },
  "orig_nbformat": 4
 },
 "nbformat": 4,
 "nbformat_minor": 2
}
