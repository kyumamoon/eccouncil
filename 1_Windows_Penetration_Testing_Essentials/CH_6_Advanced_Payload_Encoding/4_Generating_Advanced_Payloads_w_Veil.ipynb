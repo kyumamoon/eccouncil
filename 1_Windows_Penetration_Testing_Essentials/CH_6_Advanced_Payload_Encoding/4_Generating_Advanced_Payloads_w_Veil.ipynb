{
 "cells": [
  {
   "attachments": {},
   "cell_type": "markdown",
   "metadata": {},
   "source": [
    "# **Generating Advanced Payloads with Veil Evasion**"
   ]
  },
  {
   "attachments": {},
   "cell_type": "markdown",
   "metadata": {},
   "source": [
    "- veil\n",
    "    - use 1, to use veil evasion tools\n",
    "    - list, to list payloads\n",
    "    - use \\<payload#\\>\n",
    "        - example: use 28\n",
    "    - set \\<option\\> \\<value\\>\n",
    "    - generate\n",
    "        - \\<payloadName for Handler\\>\n",
    "    - PyInstaller\n",
    "- output\n",
    "    - /var/lib/veil/output/compiled\n",
    "        - includes payload EXE\n",
    "    - /var/lib/veil/output/handlers\n",
    "        - includes resource file for multihandler"
   ]
  },
  {
   "attachments": {},
   "cell_type": "markdown",
   "metadata": {},
   "source": [
    "**Setting up listener**\n",
    "- msfconfig\n",
    "    - use exploit/multi/handler\n",
    "    - resource <resourcePathofVeilPayloadRC>"
   ]
  }
 ],
 "metadata": {
  "language_info": {
   "name": "python"
  },
  "orig_nbformat": 4
 },
 "nbformat": 4,
 "nbformat_minor": 2
}
