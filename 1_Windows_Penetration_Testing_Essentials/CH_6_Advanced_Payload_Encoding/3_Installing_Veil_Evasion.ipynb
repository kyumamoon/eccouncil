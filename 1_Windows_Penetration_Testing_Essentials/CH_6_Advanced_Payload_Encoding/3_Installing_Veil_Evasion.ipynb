{
 "cells": [
  {
   "attachments": {},
   "cell_type": "markdown",
   "metadata": {},
   "source": [
    "# **Installing Veil Evasion**"
   ]
  },
  {
   "attachments": {},
   "cell_type": "markdown",
   "metadata": {},
   "source": [
    "- Veil Evasion encodes payloads to bypass traditional AV securities."
   ]
  },
  {
   "attachments": {},
   "cell_type": "markdown",
   "metadata": {},
   "source": [
    "- Kali Install\n",
    "    - git clone https://github.com/Veil-Framework/Veil-Evasion.git\n",
    "    - ./setup.sh to run setup\n",
    "- pyinstaller\n",
    "    - sudo apt install pyinstaller\n",
    "- Running\n",
    "    - veil"
   ]
  }
 ],
 "metadata": {
  "language_info": {
   "name": "python"
  },
  "orig_nbformat": 4
 },
 "nbformat": 4,
 "nbformat_minor": 2
}
