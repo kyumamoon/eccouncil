{
 "cells": [
  {
   "attachments": {},
   "cell_type": "markdown",
   "metadata": {},
   "source": [
    "- What tool used to bind meterpreter payloads to stand-alone executables?\n",
    "    - shellter\n",
    "    - Veil evasion"
   ]
  }
 ],
 "metadata": {
  "language_info": {
   "name": "python"
  },
  "orig_nbformat": 4
 },
 "nbformat": 4,
 "nbformat_minor": 2
}
