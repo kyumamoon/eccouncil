{
 "cells": [
  {
   "attachments": {},
   "cell_type": "markdown",
   "metadata": {},
   "source": [
    "# **Installing Shellter**"
   ]
  },
  {
   "attachments": {},
   "cell_type": "markdown",
   "metadata": {},
   "source": [
    "- Dynamic Shell Code Injection Tool\n",
    "    - Only works on 32-bit standalone native windows applications\n",
    "    - Avoid using on packed applications (applications compressed) to avoid AV.\n",
    "- Uses:\n",
    "    - injecting/binding payloads into windows executables."
   ]
  },
  {
   "attachments": {},
   "cell_type": "markdown",
   "metadata": {},
   "source": [
    "**Installing Shellter**\n",
    "- On Kali\n",
    "    - apt-get update\n",
    "    - apt-get install shellter\n",
    "- Running\n",
    "    - shellter"
   ]
  }
 ],
 "metadata": {
  "language_info": {
   "name": "python"
  },
  "orig_nbformat": 4
 },
 "nbformat": 4,
 "nbformat_minor": 2
}
