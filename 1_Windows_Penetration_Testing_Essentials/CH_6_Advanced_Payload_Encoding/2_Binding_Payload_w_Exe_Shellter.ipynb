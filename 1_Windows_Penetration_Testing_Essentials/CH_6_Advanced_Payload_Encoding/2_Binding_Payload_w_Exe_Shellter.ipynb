{
 "cells": [
  {
   "attachments": {},
   "cell_type": "markdown",
   "metadata": {},
   "source": [
    "# **Binding Payload With Executable Shellter**"
   ]
  },
  {
   "attachments": {},
   "cell_type": "markdown",
   "metadata": {},
   "source": [
    "- Injection Process:\n",
    "    - Payload -> EXE Host\n",
    "- Staring Shellter\n",
    "    - sudo shellter, auto mode\n",
    "    - PE, path of EXE Host\n",
    "    - Stealth Mode, allow stealth mode, install/run legit Host EXE and execute payload.\n",
    "    - payload selection\n",
    "        - Listed or Custom Payload\n",
    "- Load EXE onto target"
   ]
  }
 ],
 "metadata": {
  "language_info": {
   "name": "python"
  },
  "orig_nbformat": 4
 },
 "nbformat": 4,
 "nbformat_minor": 2
}
