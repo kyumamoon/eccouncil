{
 "cells": [
  {
   "attachments": {},
   "cell_type": "markdown",
   "metadata": {},
   "source": [
    "# **Cracking NTLM Password Hashes with John the Ripper**"
   ]
  },
  {
   "attachments": {},
   "cell_type": "markdown",
   "metadata": {},
   "source": [
    "- Wordlist/Dictionary for John the Ripper\n",
    "    - ls -al /usr/share/john/ | grep \"password\"\n",
    "        - password.lst\n",
    "- Alternative Word List\n",
    "    - ls -al /usr/share/wordlists/\n",
    "        - rockyou.txt.gz\n",
    "            - compressed zip, need to decompress.\n",
    "            - sudo gzip -d /usr/share/wordlists/rockyou.txt.gz"
   ]
  },
  {
   "attachments": {},
   "cell_type": "markdown",
   "metadata": {},
   "source": [
    "**Kali Pre-installed John the Ripper**\n",
    "- sudo john --format=NT --wordlist=/usr/share/wordlists/rockyou.txt hashes-win7.txt\n",
    "    - sudo john --format=\\<FORMAT\\> --wordlist=\\<wordlistDirectory\\> \\<hashTargetDirectory\\>\n",
    "    - Formats: rar, etc"
   ]
  },
  {
   "attachments": {},
   "cell_type": "markdown",
   "metadata": {},
   "source": [
    "**Getting hashes from zips/rar with zip2john/rar2john and cracking with hashcat**\n",
    "- rar2john \\<rarFile\\>\n",
    "- rar2john \\<rarFile\\> > \\<exportedHash\\>\n",
    "    - for rar archive files\n",
    "- zip2john \\<zipFile\\>\n",
    "    - for zip archive files\n",
    "- zip2john \\<zipFile\\> > \\<exportedHash\\>\n",
    "    - need to edit and remove header and footer part of the exported hash in order to use with hashcat.\n",
    "- hashcat -a \\<attackMode\\> -m \\<hashMode\\> \\<fileTarget\\> \\<wordlistPath\\>"
   ]
  }
 ],
 "metadata": {
  "language_info": {
   "name": "python"
  },
  "orig_nbformat": 4
 },
 "nbformat": 4,
 "nbformat_minor": 2
}
