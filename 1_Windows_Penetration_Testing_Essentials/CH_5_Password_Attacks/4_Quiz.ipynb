{
 "cells": [
  {
   "attachments": {},
   "cell_type": "markdown",
   "metadata": {},
   "source": [
    "- What command is used to dump hashes in metapreter?\n",
    "    - hashdump\n",
    "- What command is used to specify the hash format in John the ripper?\n",
    "    - format=\\<type\\>"
   ]
  }
 ],
 "metadata": {
  "language_info": {
   "name": "python"
  },
  "orig_nbformat": 4
 },
 "nbformat": 4,
 "nbformat_minor": 2
}
