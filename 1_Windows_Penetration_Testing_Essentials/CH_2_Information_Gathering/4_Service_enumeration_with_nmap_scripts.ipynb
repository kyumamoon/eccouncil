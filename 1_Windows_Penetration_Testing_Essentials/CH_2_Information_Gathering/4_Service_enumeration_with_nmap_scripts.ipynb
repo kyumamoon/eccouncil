{
 "cells": [
  {
   "attachments": {},
   "cell_type": "markdown",
   "metadata": {},
   "source": [
    "# **Service Enumeration with Nmap Scripts**"
   ]
  },
  {
   "attachments": {},
   "cell_type": "markdown",
   "metadata": {},
   "source": [
    "- Linux man command with greple:\n",
    "    - man page are documentations of software in linux\n",
    "    - greple/grep used to search strings in text lines of a plain-text or grepable file.\n",
    "    - Example:\n",
    "        - man nmap | grep\n"
   ]
  },
  {
   "attachments": {},
   "cell_type": "markdown",
   "metadata": {},
   "source": [
    "**Nmap Scripts**\n",
    "- written in Lua.\n",
    "- Scripts automate procedures/tasks of nmap.\n",
    "- found in \"/usr/share/nmap/scripts\"\n",
    "    - Use \"ls -al \\<directory\\>\" to list all scripts."
   ]
  }
 ],
 "metadata": {
  "language_info": {
   "name": "python"
  },
  "orig_nbformat": 4
 },
 "nbformat": 4,
 "nbformat_minor": 2
}
