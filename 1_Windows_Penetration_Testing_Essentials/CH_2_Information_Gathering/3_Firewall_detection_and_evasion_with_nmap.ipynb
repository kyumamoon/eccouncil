{
 "cells": [
  {
   "attachments": {},
   "cell_type": "markdown",
   "metadata": {},
   "source": [
    "# **Firewall Detection and Evasion with Nmap**"
   ]
  },
  {
   "attachments": {},
   "cell_type": "markdown",
   "metadata": {},
   "source": [
    "- Windows OS has windows firewall.\n",
    "    - Check if firewall is running/active by running an ack prob scan."
   ]
  },
  {
   "attachments": {},
   "cell_type": "markdown",
   "metadata": {},
   "source": [
    "**Default Firewall Probing**\n",
    "\n",
    "- namp -sA \\<ip\\>\n",
    "    - Shows whether ports are filtered (protected) or unfiltered (unprotected) by firewall."
   ]
  },
  {
   "attachments": {},
   "cell_type": "markdown",
   "metadata": {},
   "source": [
    "# **Firewall Evasion Techniques**\n",
    "\n",
    "**Fragmenting Packets into small bytes.**\n",
    "- Fragment packets into smaller 8byte packets. \n",
    "    \n",
    "- Idea is to send packets into small chunks so firewall does not have the whole picture on what is being sent.\n",
    "    \n",
    "- Using nmap's \"-f\" flag for fragment.\n",
    "        - requires sudo\n",
    "\n",
    " - Example:\n",
    "    - nmap -f -sV -F 10.0.0.5"
   ]
  },
  {
   "attachments": {},
   "cell_type": "markdown",
   "metadata": {},
   "source": [
    "**SYN/Stealth Scans**\n",
    "\n",
    "- nmap -sS \\<ip\\>\n",
    "    - default scan that is stealthy.\n",
    "    - sends SYN packets to the target."
   ]
  },
  {
   "attachments": {},
   "cell_type": "markdown",
   "metadata": {},
   "source": [
    "**Decoy Scan with Random IPs**\n",
    "- Uses a decoy/fake IP to perform the scan of the target.\n",
    "- nmap -sS -F -D RND:\\<Number_Of_Decoys\\> \\<target_ip\\>\n",
    "    - nmap scan with: -sS SYN scan, -F fast port scan, -D decoy, RND:# specifying number of decoy IP to use\n",
    "- Example:\n",
    "    - nmap -sS -F -D RND:3 10.0.0.5\n",
    "\n",
    "**Decoy Scan with Specified Decoy IP**\n",
    "- Uses a decoy/fake IP to perform the scan of the target.\n",
    "- nmap -sS -F -D \\<Decoy_IP\\> \\<target_ip\\>\n",
    "    - nmap scan with: -sS SYN scan, -F fast port scan, -D decoy, followed by fake IP, and target IP\n",
    "- Example:\n",
    "    - nmap -sS -F -D 10.0.0.1 10.0.0.5"
   ]
  }
 ],
 "metadata": {
  "language_info": {
   "name": "python"
  },
  "orig_nbformat": 4
 },
 "nbformat": 4,
 "nbformat_minor": 2
}
