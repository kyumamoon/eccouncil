{
 "cells": [
  {
   "attachments": {},
   "cell_type": "markdown",
   "metadata": {},
   "source": [
    "- What command denotes the don’t ping scan option in Nmap?\n",
    "    - Pn\n",
    "\n",
    "- What command denotes the don’t ping scan option in Nmap?\n",
    "    - sV"
   ]
  }
 ],
 "metadata": {
  "language_info": {
   "name": "python"
  },
  "orig_nbformat": 4
 },
 "nbformat": 4,
 "nbformat_minor": 2
}
