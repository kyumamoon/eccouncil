{
 "cells": [
  {
   "attachments": {},
   "cell_type": "markdown",
   "metadata": {},
   "source": [
    "**Scanning for device IPs on subnet using Nmap**\n",
    "\n",
    "- In kali linux terminal:\n",
    "    - nmap -sn \\<subnet IP\\>\n",
    "        - sn is ping only option. DOES NOT PORT SCAN\n",
    "        - subnet IP is IP of your network.\n",
    "    - Example: nmap -sn 10.0.0.1"
   ]
  },
  {
   "attachments": {},
   "cell_type": "markdown",
   "metadata": {},
   "source": [
    "**Scanning entire network subnet using Nmap**\n",
    "- Use the range options:\n",
    "    - nmap -sn \\<subnetIP\\>/\\<range\\>\n",
    "    - nmap -sn \\<subnetIP\\>-\\<255\\>\n",
    "- Example:\n",
    "    - nmap -sn 10.0.0.1/24\n",
    "        - Scans entire 254 IP Addresses\n",
    "    - nmap -sn 10.0.0.1-255\n",
    "        - Scans entire 250 IP Addresses"
   ]
  }
 ],
 "metadata": {
  "language_info": {
   "name": "python"
  },
  "orig_nbformat": 4
 },
 "nbformat": 4,
 "nbformat_minor": 2
}
