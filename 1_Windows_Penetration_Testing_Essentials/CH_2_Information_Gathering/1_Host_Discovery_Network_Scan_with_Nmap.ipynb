{
 "cells": [
  {
   "attachments": {},
   "cell_type": "markdown",
   "metadata": {},
   "source": [
    "**Checking device IP on Linux**\n",
    "- ifconfig\n",
    "    - Device IP is eth0, inet\n",
    "- ip a s\n",
    "    - Device IP is eth0, inet"
   ]
  },
  {
   "attachments": {},
   "cell_type": "markdown",
   "metadata": {},
   "source": [
    "**Scanning for device IPs on subnet using Nmap**\n",
    "\n",
    "- In kali linux terminal:\n",
    "    - nmap -sn \\<subnet IP\\>\n",
    "        - sn is ping only option. DOES NOT PORT SCAN\n",
    "        - subnet IP is IP of your network.\n",
    "    - Example: nmap -sn 10.0.0.1"
   ]
  },
  {
   "attachments": {},
   "cell_type": "markdown",
   "metadata": {},
   "source": [
    "**Scanning entire network subnet using Nmap**\n",
    "- Use the range options:\n",
    "    - nmap -sn \\<subnetIP\\>/\\<range\\>\n",
    "    - nmap -sn \\<subnetIP\\>-\\<255\\>\n",
    "- Example:\n",
    "    - nmap -sn 10.0.0.1/24\n",
    "        - Scans entire 254 IP Addresses\n",
    "    - nmap -sn 10.0.0.1-255\n",
    "        - Scans entire 250 IP Addresses"
   ]
  },
  {
   "attachments": {},
   "cell_type": "markdown",
   "metadata": {},
   "source": [
    "**Scanning Device IP without host discovery or pinging**\n",
    "\n",
    "Good incase firewall blocks host discovery. Only good if know the target device's IP.\n",
    "\n",
    "- Command:\n",
    "    - nmap -Pn \\<DEVICE IP\\>\n",
    "        - Scan the IP and its ports.\n",
    "        - -Pn, dont ping scan"
   ]
  }
 ],
 "metadata": {
  "language_info": {
   "name": "python"
  },
  "orig_nbformat": 4
 },
 "nbformat": 4,
 "nbformat_minor": 2
}
