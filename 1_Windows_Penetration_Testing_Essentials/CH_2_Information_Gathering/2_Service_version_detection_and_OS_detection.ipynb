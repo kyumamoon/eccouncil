{
 "cells": [
  {
   "attachments": {},
   "cell_type": "markdown",
   "metadata": {},
   "source": [
    "# **Service Version Detection, OS Detection, and various port scans with Nmap.**"
   ]
  },
  {
   "attachments": {},
   "cell_type": "markdown",
   "metadata": {},
   "source": [
    "**Default Nmap Scan**\n",
    "\n",
    "- nmap \\<ip\\>\n",
    "    - - Example: nmap 10.0.0.5\n",
    "    - Scans 1000 commonly used ports out of 65,535 TCP ports on the IP."
   ]
  },
  {
   "attachments": {},
   "cell_type": "markdown",
   "metadata": {},
   "source": [
    "**Fast Nmap Scan**\n",
    "- nmap -F \\<ip\\>\n",
    "    - Example: nmap -F 10.0.0.5\n",
    "    - Scans 100 commonly used ports.\n",
    "    - F = fast"
   ]
  },
  {
   "attachments": {},
   "cell_type": "markdown",
   "metadata": {},
   "source": [
    "**Specific port scanning**\n",
    "- nmap -p \\<port\\> \\<ip\\>\n",
    "    - Scans the IP for a specific port.\n",
    "    - Example:\n",
    "        - nmap -p 22 10.0.0.5\n",
    "        - Scans IP for port 22\n",
    "    - Separate port with comma to scan multiple ports.\n",
    "    - Use a dash between ports to scan the range between those ports."
   ]
  },
  {
   "attachments": {},
   "cell_type": "markdown",
   "metadata": {},
   "source": [
    "**Scan all 65,535 ports**\n",
    "- nmap -p- \\<ip\\>\n",
    "    - Scans all the 65535 ports on the IP."
   ]
  },
  {
   "attachments": {},
   "cell_type": "markdown",
   "metadata": {},
   "source": [
    "# **Finding Service Version/Banner for a software on a port**"
   ]
  },
  {
   "attachments": {},
   "cell_type": "markdown",
   "metadata": {},
   "source": [
    "Use to find the service version of a port service to figure out if there are any exploits to use.\n",
    "\n",
    "- nmap -sV \\<ip\\>\n",
    "    - Scans 1000 commonly used ports and their service versions/banners.\n",
    "    - Add other flags to do different types of nmap scans.\n",
    "        - Example: \n",
    "            - -p- to scan all 65535 ports.\n",
    "            - nmap -sV -p- \\<ip\\>"
   ]
  },
  {
   "attachments": {},
   "cell_type": "markdown",
   "metadata": {},
   "source": [
    "# **Operating System Detection using Nmap**\n",
    "\n",
    "Scans the target and ports to see if operating system can be dug up. Might have to sudo to use root privileges.\n",
    "\n",
    "- nmap -O \\<ip\\>\n",
    "- sudo nmap -O \\<ip\\>\n",
    "    - Results of OS detection will be given in \"OS details:\"\n",
    "    - Results are based on predictions so multiple results are given."
   ]
  },
  {
   "attachments": {},
   "cell_type": "markdown",
   "metadata": {},
   "source": [
    "# **Exporting Command Results into a file**\n",
    "- man nmap\n",
    "    - shows documentation of nmap\n",
    "- oN/-oX/-oS/-oG \\<filename\\>\n",
    "    - oN = normal\n",
    "    - oX = XML\n",
    "    - oS = script kiddie\n",
    "    - oG = Grepable\n",
    "- oA \\<filename\\>\n",
    "    - outputs into major files at once\n",
    "- Example:\n",
    "    - nmap -F -sV 10.0.0.6 -oN nmap.txt"
   ]
  },
  {
   "attachments": {},
   "cell_type": "markdown",
   "metadata": {},
   "source": [
    "**Verbosity**\n",
    "- Verbosity levels show the background process of nmap and displays it to the user.\n",
    "\n",
    "- -v/-vv/-vvv\n",
    "    - more v's = more details\n",
    "- Example:\n",
    "    - nmap -F -sV -vv 10.0.0.6"
   ]
  }
 ],
 "metadata": {
  "language_info": {
   "name": "python"
  },
  "orig_nbformat": 4
 },
 "nbformat": 4,
 "nbformat_minor": 2
}
