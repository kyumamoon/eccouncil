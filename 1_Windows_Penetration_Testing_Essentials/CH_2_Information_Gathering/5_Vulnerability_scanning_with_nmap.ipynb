{
 "cells": [
  {
   "attachments": {},
   "cell_type": "markdown",
   "metadata": {},
   "source": [
    "# **Vulnerability Scanning with Nmap**\n",
    "\n",
    "- https://github.com/vulnersCom/nmap-vulners"
   ]
  },
  {
   "attachments": {},
   "cell_type": "markdown",
   "metadata": {},
   "source": [
    "**Vulnerability Scanning**\n",
    "\n",
    "- Syntax:\n",
    "    - nmap -sS -sV --script vulners \\<Target_IP\\>\n",
    "- Provides results of vulnerability for ports."
   ]
  },
  {
   "attachments": {},
   "cell_type": "markdown",
   "metadata": {},
   "source": [
    "Terms:\n",
    "\n",
    "- CVE = common vulnerability and exposures code.\n",
    "    - Results will show severability and when vulerability was publicly disclosed."
   ]
  }
 ],
 "metadata": {
  "language_info": {
   "name": "python"
  },
  "orig_nbformat": 4
 },
 "nbformat": 4,
 "nbformat_minor": 2
}
