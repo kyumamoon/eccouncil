{
 "cells": [
  {
   "attachments": {},
   "cell_type": "markdown",
   "metadata": {},
   "source": [
    "- use post exploit to dump hashes\n",
    "    - search hashdump\n",
    "    - windows/gather/hashdump\n",
    "- crack NTLM hashes with john\n",
    "- sudo john --format=\\<FORMAT\\> --wordlist=\\<wordlistDirectory\\> \\<targetDIR\\>"
   ]
  }
 ],
 "metadata": {
  "language_info": {
   "name": "python"
  },
  "orig_nbformat": 4
 },
 "nbformat": 4,
 "nbformat_minor": 2
}
