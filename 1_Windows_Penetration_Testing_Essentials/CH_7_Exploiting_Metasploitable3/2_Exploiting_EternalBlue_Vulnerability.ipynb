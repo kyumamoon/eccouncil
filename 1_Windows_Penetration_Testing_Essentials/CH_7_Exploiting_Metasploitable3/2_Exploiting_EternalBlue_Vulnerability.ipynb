{
 "cells": [
  {
   "cell_type": "markdown",
   "metadata": {},
   "source": [
    "- try eternalblue exploit on metasploitable3 device\n",
    "- escalate privileges if needed\n",
    "- set up persistence"
   ]
  }
 ],
 "metadata": {
  "language_info": {
   "name": "python"
  },
  "orig_nbformat": 4
 },
 "nbformat": 4,
 "nbformat_minor": 2
}
