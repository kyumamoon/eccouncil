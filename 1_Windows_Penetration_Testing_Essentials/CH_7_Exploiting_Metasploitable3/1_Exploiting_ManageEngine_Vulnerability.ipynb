{
 "cells": [
  {
   "attachments": {},
   "cell_type": "markdown",
   "metadata": {},
   "source": [
    "- Nmap to find target.\n",
    "- use manageengine exploit on target.\n",
    "     - msfconsole\n",
    "     - search manageengine\n",
    "     - use manageengine exploits\n",
    "- setup meterpreter\n",
    "- elevate if necessary\n",
    "- setup persistence"
   ]
  }
 ],
 "metadata": {
  "language_info": {
   "name": "python"
  },
  "orig_nbformat": 4
 },
 "nbformat": 4,
 "nbformat_minor": 2
}
