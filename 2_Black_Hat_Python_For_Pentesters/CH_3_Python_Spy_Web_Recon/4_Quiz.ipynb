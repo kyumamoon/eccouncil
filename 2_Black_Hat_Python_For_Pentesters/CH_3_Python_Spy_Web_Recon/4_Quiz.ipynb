{
 "cells": [
  {
   "attachments": {},
   "cell_type": "markdown",
   "metadata": {},
   "source": [
    "- What can be gathered about the target through web scraping?\n",
    "    - Links, Images, Emails\n",
    "\n",
    "- What is phishing?\n",
    "    - Automated emails aimed at the target."
   ]
  }
 ],
 "metadata": {
  "language_info": {
   "name": "python"
  },
  "orig_nbformat": 4
 },
 "nbformat": 4,
 "nbformat_minor": 2
}
