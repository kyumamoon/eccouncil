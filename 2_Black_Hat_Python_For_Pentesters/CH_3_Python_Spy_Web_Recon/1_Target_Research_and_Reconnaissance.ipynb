{
 "cells": [
  {
   "attachments": {},
   "cell_type": "markdown",
   "metadata": {},
   "source": [
    "# **Target Research and Reconnaissance**"
   ]
  },
  {
   "attachments": {},
   "cell_type": "markdown",
   "metadata": {},
   "source": [
    "- Briefly touched on last section, web recong tells you about your target.\n",
    "- Web sites have useful info, often hidden in source code.\n",
    "    - Web scraping captures data for later analysis. Reduces likelyhood of leaving a pattern for detection.\n",
    "    - Data gathered including links to internal/external sites, iamges, etc.\n",
    "- We will focus on websites but Python can also automate internet scrolling, social media queries and similar research."
   ]
  }
 ],
 "metadata": {
  "language_info": {
   "name": "python"
  },
  "orig_nbformat": 4
 },
 "nbformat": 4,
 "nbformat_minor": 2
}
