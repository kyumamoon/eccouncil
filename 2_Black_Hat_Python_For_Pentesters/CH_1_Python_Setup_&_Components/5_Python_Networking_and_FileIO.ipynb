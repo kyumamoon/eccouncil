{
 "cells": [
  {
   "attachments": {},
   "cell_type": "markdown",
   "metadata": {},
   "source": [
    "# **Python Networking and File IO**"
   ]
  },
  {
   "attachments": {},
   "cell_type": "markdown",
   "metadata": {},
   "source": [
    "**Python Networking**\n",
    "- (Low Level) Sockets: provide low-level networking support at the raw socket level\n",
    "    - allow creation of clients and servers for connection-oriented and connectionless protocols\n",
    "    - programmer is responsible for all functionality\n",
    "    - https://www.tutorialspoint.com/python_network_programming/python_sockets_programming.htm\n",
    "- High-level protocols: provide high-level APIS to interact at higher levels of the OSI model\n",
    "    - HTTP/S\n",
    "    - FTP\n",
    "    - SMTP\n",
    "    - SSL"
   ]
  },
  {
   "attachments": {},
   "cell_type": "markdown",
   "metadata": {},
   "source": [
    "**Python Files**\n",
    "- open() function is primary way to access files for read and writing.\n",
    "    - default function is READ\n",
    "    - binary can be read/write with arguments \"rb\" or \"wb\"\n",
    "    - Best practice:\n",
    "        - use \"with open()\" to ensure file is closed if it is not used.\n",
    "        - \"open()\" does not close automatically.\n",
    "- shutil and os libraries provide high-level operations on files, much like shell commands\n",
    "    - copying/moving/changing owner/etc"
   ]
  },
  {
   "attachments": {},
   "cell_type": "markdown",
   "metadata": {},
   "source": [
    "**Data Serialization**\n",
    "- Required to convert Python objects to byte streams suitable for network transfer.\n",
    "- Built in library \"pickle\" is primary python tool for data serialization\n",
    "    - pickle is not secure against data errors, whether accidental or on purpose\n",
    "    - pickle packages data into transfer ready format that wont be corrupted by the transfer process itself."
   ]
  },
  {
   "cell_type": "code",
   "execution_count": null,
   "metadata": {},
   "outputs": [],
   "source": [
    "import pickle\n",
    "\n",
    "# A simple list\n",
    "my_list = [1,2,3,\"bucket\",\"etc\"]\n",
    "\n",
    "# Saving list into a file\n",
    "save_file = open(\"pickles\", \"wb\")\n",
    "\n",
    "# Pickling the data into the file.\n",
    "pickle.dump(my_list,save_file)\n",
    "\n",
    "# close the file\n",
    "save_file.close()\n",
    "\n",
    "# opening the file\n",
    "open_file = open(\"pickles\",\"rb\")\n",
    "\n",
    "# pickling opening the file\n",
    "pickled_pickles = pickle.load(open_file)\n",
    "\n",
    "print(pickled_pickles)"
   ]
  }
 ],
 "metadata": {
  "language_info": {
   "name": "python"
  },
  "orig_nbformat": 4
 },
 "nbformat": 4,
 "nbformat_minor": 2
}
