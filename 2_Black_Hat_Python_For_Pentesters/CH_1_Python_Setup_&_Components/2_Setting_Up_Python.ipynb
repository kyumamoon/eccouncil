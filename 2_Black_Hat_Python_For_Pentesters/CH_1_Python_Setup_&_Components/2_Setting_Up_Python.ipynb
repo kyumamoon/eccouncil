{
 "cells": [
  {
   "attachments": {},
   "cell_type": "markdown",
   "metadata": {},
   "source": [
    "**Setting up python**"
   ]
  },
  {
   "attachments": {},
   "cell_type": "markdown",
   "metadata": {},
   "source": [
    "- python.org\n",
    "- python3 --version\n",
    "    - to check if installed\n",
    "    - if installed, sudo apt update; sudo apt upgrade -y\n",
    "- not installed,\n",
    "    - Ubuntu 17.04+\n",
    "        - sudo apt update; sudo apt install python3"
   ]
  },
  {
   "attachments": {},
   "cell_type": "markdown",
   "metadata": {},
   "source": [
    "**Development Environments**\n",
    "- Text Editors\n",
    "    - Vim/gVim\n",
    "    - Emacs\n",
    "    - Gedit\n",
    "    - Notepad++\n",
    "- Integrated Development Environments\n",
    "    - PyCharm\n",
    "    - Visual Studio\n",
    "    - Eclipse"
   ]
  },
  {
   "attachments": {},
   "cell_type": "markdown",
   "metadata": {},
   "source": [
    "**Virtual Environments for Python**\n",
    "- Similar to OS VMs\n",
    "- Allows Python packages to be separate\n",
    "    - for different versions of same packages\n",
    "    - for system-wide and project-specific packages\n",
    "- Options\n",
    "    - venv\n",
    "    - pipemv"
   ]
  }
 ],
 "metadata": {
  "language_info": {
   "name": "python"
  },
  "orig_nbformat": 4
 },
 "nbformat": 4,
 "nbformat_minor": 2
}
