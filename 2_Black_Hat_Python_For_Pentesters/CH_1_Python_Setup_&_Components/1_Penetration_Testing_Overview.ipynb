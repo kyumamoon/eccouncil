{
 "cells": [
  {
   "attachments": {},
   "cell_type": "markdown",
   "metadata": {},
   "source": [
    "# **Penetration Testing Overview**"
   ]
  },
  {
   "attachments": {},
   "cell_type": "markdown",
   "metadata": {},
   "source": [
    "- pen testing evaluates system and network security\n",
    "- identifies vulnerabilities and potential for exploit by malicious parties\n",
    "- only performed on authorized systems;\n",
    "    - formal/written permission should be obtained for legal reasons"
   ]
  },
  {
   "attachments": {},
   "cell_type": "markdown",
   "metadata": {},
   "source": [
    "**Pen Testing Methology (5)**\n",
    "1. RECONNAISSANCE: gather info about target\n",
    "2. SCANNING/FOOTPRINTING: technical assessment of potential openings\n",
    "    - OS, firmware, apps installed, etc\n",
    "3. GAINING ACCESS: utilize exploits to enter system\n",
    "4. MAINTAIN ACCESS: ensure persistent connection to target for data gathering and extraction\n",
    "5. COVERING TRACKS: hide traces that an attack occured."
   ]
  },
  {
   "attachments": {},
   "cell_type": "markdown",
   "metadata": {},
   "source": [
    "**Python PenTesting**\n",
    "- provides ability to craft attacks that dont have an existing signature\n",
    "- automate variety of tasks, such as device enumeration.\n",
    "- integrates well with existing tools,python-nmap ,etc\n",
    "- general purpose nature expands use beyond pen testing and hacking, such as data analysis, text editing, etc."
   ]
  },
  {
   "attachments": {},
   "cell_type": "markdown",
   "metadata": {},
   "source": [
    "- Reports are important tools.\n",
    "- Without after-action report, no document of what was discovered and when, how it was exploited, and subsequent risk assessment.\n",
    "- All steps need document for replication and legal reasons."
   ]
  }
 ],
 "metadata": {
  "language_info": {
   "name": "python"
  },
  "orig_nbformat": 4
 },
 "nbformat": 4,
 "nbformat_minor": 2
}
