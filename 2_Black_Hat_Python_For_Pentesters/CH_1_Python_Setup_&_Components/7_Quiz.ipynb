{
 "cells": [
  {
   "attachments": {},
   "cell_type": "markdown",
   "metadata": {},
   "source": [
    "- Reports are the most important part of pen-testing:\n",
    "    - true\n",
    "- How many phases are there in penetration testing?\n",
    "    - 5\n",
    "- One advantage of pen testing over others is that written permission is not required for this.\n",
    "- What does the feature of Python Pen-testing include?\n",
    "    - provides ability to craft attacks with nonexisting signatures, automates tasks, integrates well with existing tools.\n",
    "- What is use of pen testing?\n",
    "    - It helps in planning an attack on an organization.\n",
    "    - It helps remove the traces after attacking a company illegally.\n",
    "    - It identifies vulnerabilities and the potential for exploit by malicious parties.\n",
    "    - Both (a) and (b)"
   ]
  }
 ],
 "metadata": {
  "language_info": {
   "name": "python"
  },
  "orig_nbformat": 4
 },
 "nbformat": 4,
 "nbformat_minor": 2
}
