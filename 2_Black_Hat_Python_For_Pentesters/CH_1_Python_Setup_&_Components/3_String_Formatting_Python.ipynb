{
 "cells": [
  {
   "attachments": {},
   "cell_type": "markdown",
   "metadata": {},
   "source": [
    "# **String Formatting Python**"
   ]
  },
  {
   "attachments": {},
   "cell_type": "markdown",
   "metadata": {},
   "source": [
    "- String Formatting\n",
    "    - allows Python to generate a string that includes dynamically changing values such as numbers, returns from functions/methods, calculations, etc.\n",
    "        - PSEUDO: format(\"%s is an animal. Who is %d years old.\",name,age)\n"
   ]
  },
  {
   "attachments": {},
   "cell_type": "markdown",
   "metadata": {},
   "source": [
    "- Traditional Formmatting\n",
    "    - dervived from C language, so somewhat limited.\n",
    "    - requires use of symbols to designate the type of the value/object to insert into the string.\n",
    "    - limiting compared to new formats."
   ]
  },
  {
   "cell_type": "code",
   "execution_count": null,
   "metadata": {},
   "outputs": [],
   "source": [
    "# Example of Traditional Formatting\n",
    "\n",
    "print(\"This is a %s string, we have %d fingers.\" % (\"python\",5))\n",
    "# Returns:\n",
    "# This is a python string, we have 5 fingers."
   ]
  },
  {
   "attachments": {},
   "cell_type": "markdown",
   "metadata": {},
   "source": [
    "- Modern Formatting:\n",
    "    - Doesnt require symbol matching, Python knows how to convert values to correct type.\n",
    "    - Multiple Options:\n",
    "        - by default position\n",
    "        - by numbered position\n",
    "        - by name\n",
    "        - f-strings"
   ]
  },
  {
   "cell_type": "code",
   "execution_count": null,
   "metadata": {},
   "outputs": [],
   "source": [
    "# Example of Modern Formatting\n",
    "\n",
    "# using positions\n",
    "print(\"{} {} {}\".format(\"A\",\"B\",\"C\"))\n",
    "\n",
    "# using numbered positions\n",
    "print(\"{2} {1} {0}\".format(\"A\",\"B\",\"C\"))\n",
    "\n",
    "# using names\n",
    "print(\"NAME: {name}, AGE: {age}\".format(name=\"BOB\",age=52))\n",
    "\n",
    "# Shorthand\n",
    "name = \"banana\"\n",
    "print(f\"I HAVE A {name}\")\n",
    "\n",
    "# Functions returns\n",
    "name2 = \"bob\"\n",
    "def to_lowercase(value):\n",
    "    return value.lower()\n",
    "print(f\"My name is BOB, lowercase would be {to_lowercase(name2)}\")"
   ]
  },
  {
   "attachments": {},
   "cell_type": "markdown",
   "metadata": {},
   "source": [
    "**f-string**\n",
    "- formally known as formatting string literals\n",
    "- expressions are evaluated at run-time and automatically formatted\n",
    "    - includes function and method calls, calculations, etc\n",
    "    - support multi-line outputs\n",
    "    - because of run-time evaluation, they are faster than regular string formatting"
   ]
  },
  {
   "cell_type": "code",
   "execution_count": null,
   "metadata": {},
   "outputs": [],
   "source": [
    "name = \"banana\"\n",
    "print(f\"I HAVE A {name}\")\n",
    "\n",
    "# Functions returns\n",
    "name2 = \"bob\"\n",
    "def to_lowercase(value):\n",
    "    return value.lower()\n",
    "print(f\"My name is BOB, lowercase would be {to_lowercase(name2)}\")"
   ]
  }
 ],
 "metadata": {
  "kernelspec": {
   "display_name": "Python 3",
   "language": "python",
   "name": "python3"
  },
  "language_info": {
   "codemirror_mode": {
    "name": "ipython",
    "version": 3
   },
   "file_extension": ".py",
   "mimetype": "text/x-python",
   "name": "python",
   "nbconvert_exporter": "python",
   "pygments_lexer": "ipython3",
   "version": "3.10.2"
  },
  "orig_nbformat": 4
 },
 "nbformat": 4,
 "nbformat_minor": 2
}
