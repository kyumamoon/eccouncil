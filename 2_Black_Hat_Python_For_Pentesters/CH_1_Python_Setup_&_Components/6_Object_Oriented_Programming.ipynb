{
 "cells": [
  {
   "attachments": {},
   "cell_type": "markdown",
   "metadata": {},
   "source": [
    "# **Object Oriented Programming in Python**\n"
   ]
  },
  {
   "attachments": {},
   "cell_type": "markdown",
   "metadata": {},
   "source": [
    "**Procedural vs OOP**\n",
    "- Python can use both procedural programming and OOP within same program.\n",
    "\n",
    "1. Procedural\n",
    "    - uses functions to break out of normal logic flows\n",
    "    - improves code reusability and reduce \"spaghetti code\"\n",
    "2. OOP\n",
    "    - uses methods; same purpose as functions but tied to a particular class\n",
    "    - separate instances can be created with the same parameters and methods\n",
    "    - allow better reuse of code, particularly through inheritance\n"
   ]
  },
  {
   "cell_type": "code",
   "execution_count": null,
   "metadata": {},
   "outputs": [],
   "source": [
    "class CarShop:\n",
    "    \"\"\"Models a car salesroom.\n",
    "    Creates and shows car inventory, profits, and removes car from inventory when sold.\n",
    "    \"\"\"\n",
    "\n",
    "    def __init__(self,name):\n",
    "        self.name = name\n",
    "        self.inventory = {}\n",
    "        self.shop_markup = 1.5\n",
    "        self.sale_profit = 0\n",
    "        self.sel_car_price = None\n",
    "        self.store_profit = 0\n",
    "        self.sell_price = 0\n",
    "    \n",
    "    def initial_inventory(self,car,quantity):\n",
    "        \"\"\"Creates initial inventory of shop inventory\"\"\"\n",
    "        self.inventory[car] = quantity\n",
    "        self.sell_price = car.shop_price * self.shop_markup\n",
    "\n",
    "    def show_inventory(self):\n",
    "        \"\"\"Displays cars currently available\"\"\"\n",
    "        avail_inventory = []\n",
    "        for car in self.inventory:\n",
    "            if self.avail_inventory[car] > 0:\n",
    "                avail_inventory.append(car)\n",
    "        return avail_inventory\n",
    "    \n",
    "    def indiv_sale_profit(self, car_cost):\n",
    "        \"\"\"Calc how much profit the store made on a sale\"\"\"\n",
    "        self.sel_car_price = car_cost\n",
    "        self.sale_profit += (self.sel_car_price * self.shop_markup)\n",
    "\n",
    "    def total_profit(self):\n",
    "        \"\"\"Calc cumulative profit from all sales\"\"\"\n",
    "        self.store_profit += self.sale_profit\n",
    "        return self.store_profit\n",
    "    \n",
    "    def sell_car(self,car_name):\n",
    "        \"\"\"Remove a sold car from inventory\"\"\"\n",
    "        self.inventory[car_name] -= 1\n"
   ]
  },
  {
   "cell_type": "code",
   "execution_count": null,
   "metadata": {},
   "outputs": [],
   "source": [
    "# Inheritance\n",
    "\n",
    "# ChevyShop inherits CarShop\n",
    "class ChevyShop(CarShop):\n",
    "    pass\n",
    "\n",
    "# FordShop inherits CarShop with changes to initial values\n",
    "class FordShop(CarShop):\n",
    "    def __init__(self, tax):\n",
    "        self.tax = tax\n",
    "\n",
    "    def total_profit(self):\n",
    "        \"\"\"Calc cumulative profit from all sales\"\"\"\n",
    "        self.store_profit += self.sale_profit - self.tax\n",
    "        return self.store_profit\n",
    "    \n",
    "    def clear_inventory(self):\n",
    "        self.inventory.clear()\n"
   ]
  }
 ],
 "metadata": {
  "language_info": {
   "name": "python"
  },
  "orig_nbformat": 4
 },
 "nbformat": 4,
 "nbformat_minor": 2
}
