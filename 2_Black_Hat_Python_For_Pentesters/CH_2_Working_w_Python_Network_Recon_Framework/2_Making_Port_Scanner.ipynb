{
 "cells": [
  {
   "attachments": {},
   "cell_type": "markdown",
   "metadata": {},
   "source": [
    "# **Making Port Scanner**"
   ]
  },
  {
   "attachments": {},
   "cell_type": "markdown",
   "metadata": {},
   "source": [
    "**Python Port Scanner**\n",
    "\n",
    "- Utilizes low-level sockets to interface with TCP and UDP protocols.\n",
    "- Most connections use TCP as it is connection-oriented and ensures data packets are received.\n",
    "- UDP is connectionless, so it is commonly used in VoIP, video streaming, and other applications where dropped packets is tolerable."
   ]
  },
  {
   "cell_type": "code",
   "execution_count": null,
   "metadata": {},
   "outputs": [],
   "source": [
    "def connection_scan(target_ip, target_port):\n",
    "    \"\"\"Attempts to create socket connection with target IP and port. If successful, the port is open, else, closed.\"\"\"\n",
    "    try:\n",
    "        conn_socket = socket.socket(socket.AF_INET, socket.SOCK_STREAM)\n",
    "        conn_socket.connect((target_ip, target_port))\n",
    "        conn_socket.send(b'Banner_query\\r\\n') # Banner Query.\n",
    "        print(\"[+] {}/tcp open\".format(target_port))\n",
    "    except OSError:\n",
    "        print(\"[-] {}/tcp closed\".format(target_port))\n",
    "    finally:\n",
    "        conn_socket.close() # Ensure connection is closed."
   ]
  },
  {
   "cell_type": "code",
   "execution_count": null,
   "metadata": {},
   "outputs": [],
   "source": [
    "def port_scan(target_ip,port_num):\n",
    "    \"\"\"Scan indicated ports for status. First, tries to resolve IP Address of provided hostnaem and enumerate ports.\"\"\"\n",
    "\n",
    "    try:\n",
    "        target_ip = socket.gethostbyname(target_ip)\n",
    "        print('[*] Scan Results for: {}'.format(target_ip))\n",
    "        connection_scan(target_ip, int(port_num))\n",
    "    except OSError:\n",
    "        print(\"[^] Cannot resolve {}: Unknown host\".format(target_ip))\n",
    "        return # Exit scan if target IP not resolved."
   ]
  },
  {
   "cell_type": "code",
   "execution_count": null,
   "metadata": {},
   "outputs": [],
   "source": [
    "def argument_parser():\n",
    "    # CMD LINE Program helper\n",
    "    \"\"\"Allow user to specify target host and port.\"\"\"\n",
    "    \n",
    "    parser = argparse.ArgumentParser(description=\"TCP Port Scanner. Accepts a hostname/IP address and list of ports to scan. Attempts to identify the service running on a port.\")\n",
    "    parser.add_argument(\"-o\",\"--host\",nargs=\"?\",help=\"Host IP Address\")\n",
    "    parser.add_argument(\"-p\",\"--ports\",nargs=\"?\",help=\"Comma-separated port list, such as '25,80,8080'\")\n",
    "\n",
    "    var_args = vars(parser.parse_args()) # Convert argument namespace to dictionary.\n",
    "    return var_args"
   ]
  },
  {
   "cell_type": "code",
   "execution_count": null,
   "metadata": {},
   "outputs": [],
   "source": [
    "if __name__ == '__main__':\n",
    "    try:\n",
    "        user_args = argument_parser()\n",
    "        host = user_args[\"host\"]\n",
    "        port_list = user_args[\"ports\"].split(\",\") # Make a list from port list\n",
    "        for port in port_list:\n",
    "            port_scan(host,port)\n",
    "    except AttributeError:\n",
    "        print(\"Error. Please provide the command-line argument before running.\")"
   ]
  },
  {
   "attachments": {},
   "cell_type": "markdown",
   "metadata": {},
   "source": [
    "**Full Code - NonThreaded**"
   ]
  },
  {
   "cell_type": "code",
   "execution_count": null,
   "metadata": {},
   "outputs": [],
   "source": [
    "import argparse\n",
    "import socket\n",
    "\n",
    "def connection_scan(target_ip, target_port):\n",
    "    \"\"\"Attempts to create socket connection with target IP and port. If successful, the port is open, else, closed.\"\"\"\n",
    "    try:\n",
    "        conn_socket = socket.socket(socket.AF_INET, socket.SOCK_STREAM)\n",
    "        conn_socket.connect((target_ip, target_port))\n",
    "        conn_socket.send(b'Banner_query\\r\\n') # Banner Query.\n",
    "        print(\"[+] {}/tcp open\".format(target_port))\n",
    "    except OSError:\n",
    "        print(\"[-] {}/tcp closed\".format(target_port))\n",
    "    finally:\n",
    "        conn_socket.close() # Ensure connection is closed.\n",
    "\n",
    "def port_scan(target_ip,port_num):\n",
    "    \"\"\"Scan indicated ports for status. First, tries to resolve IP Address of provided hostnaem and enumerate ports.\"\"\"\n",
    "\n",
    "    try:\n",
    "        target_ip = socket.gethostbyname(target_ip)\n",
    "        print('[*] Scan Results for: {}'.format(target_ip))\n",
    "        connection_scan(target_ip, int(port_num))\n",
    "    except OSError:\n",
    "        print(\"[^] Cannot resolve {}: Unknown host\".format(target_ip))\n",
    "        return # Exit scan if target IP not resolved.\n",
    "\n",
    "def argument_parser():\n",
    "    # CMD LINE Program helper\n",
    "    \"\"\"Allow user to specify target host and port.\"\"\"\n",
    "    \n",
    "    parser = argparse.ArgumentParser(description=\"TCP Port Scanner. Accepts a hostname/IP address and list of ports to scan. Attempts to identify the service running on a port.\")\n",
    "    parser.add_argument(\"-o\",\"--host\",nargs=\"?\",help=\"Host IP Address\")\n",
    "    parser.add_argument(\"-p\",\"--ports\",nargs=\"?\",help=\"Comma-separated port list, such as '25,80,8080'\")\n",
    "\n",
    "    var_args = vars(parser.parse_args()) # Convert argument namespace to dictionary.\n",
    "    return var_args\n",
    "\n",
    "if __name__ == '__main__':\n",
    "    try:\n",
    "        user_args = argument_parser()\n",
    "        host = user_args[\"host\"]\n",
    "        port_list = user_args[\"ports\"].split(\",\") # Make a list from port list\n",
    "        for port in port_list:\n",
    "            port_scan(host,port)\n",
    "    except AttributeError:\n",
    "        print(\"Error. Please provide the command-line argument before running.\")"
   ]
  },
  {
   "attachments": {},
   "cell_type": "markdown",
   "metadata": {},
   "source": [
    "**Full Code - Threaded**"
   ]
  },
  {
   "cell_type": "code",
   "execution_count": null,
   "metadata": {},
   "outputs": [],
   "source": [
    "import argparse\n",
    "import socket\n",
    "import threading\n",
    "\n",
    "def connection_scan(target_ip, target_port):\n",
    "    \"\"\"Attempts to create socket connection with target IP and port. If successful, the port is open, else, closed.\"\"\"\n",
    "    try:\n",
    "        conn_socket = socket.socket(socket.AF_INET, socket.SOCK_STREAM)\n",
    "        conn_socket.connect((target_ip, target_port))\n",
    "        conn_socket.send(b'Banner_query\\r\\n') # Banner Query.\n",
    "        print(\"[+] {}/tcp open\".format(target_port))\n",
    "    except OSError:\n",
    "        print(\"[-] {}/tcp closed\".format(target_port))\n",
    "    finally:\n",
    "        conn_socket.close() # Ensure connection is closed.\n",
    "\n",
    "def port_scan(target_ip,port_num):\n",
    "    \"\"\"Scan indicated ports for status. First, tries to resolve IP Address of provided hostnaem and enumerate ports.\"\"\"\n",
    "\n",
    "    try:\n",
    "        target_ip = socket.gethostbyname(target_ip)\n",
    "    except OSError:\n",
    "        print(\"[^] Cannot resolve {}: Unknown host\".format(target_ip))\n",
    "        return # Exit scan if target IP not resolved.\n",
    "\n",
    "    try:\n",
    "        target_name = socket.gethostbyaddr(target_ip)\n",
    "        print['[*] Scan Reuslts for: {}'.format(target_name[0])]\n",
    "    except OSError:\n",
    "        print('[*] Scan Results for: {}'.format(target_ip))\n",
    "\n",
    "    t = threading.Thread(target=connection_scan, args=(target_ip, int(port_num)))\n",
    "    t.start()\n",
    "\n",
    "def argument_parser():\n",
    "    # CMD LINE Program helper\n",
    "    \"\"\"Allow user to specify target host and port.\"\"\"\n",
    "    \n",
    "    parser = argparse.ArgumentParser(description=\"TCP Port Scanner. Accepts a hostname/IP address and list of ports to scan. Attempts to identify the service running on a port.\")\n",
    "    parser.add_argument(\"-o\",\"--host\",nargs=\"?\",help=\"Host IP Address\")\n",
    "    parser.add_argument(\"-p\",\"--ports\",nargs=\"?\",help=\"Comma-separated port list, such as '25,80,8080'\")\n",
    "\n",
    "    var_args = vars(parser.parse_args()) # Convert argument namespace to dictionary.\n",
    "    return var_args\n",
    "\n",
    "if __name__ == '__main__':\n",
    "    try:\n",
    "        user_args = argument_parser()\n",
    "        host = user_args[\"host\"]\n",
    "        port_list = user_args[\"ports\"].split(\",\") # Make a list from port list\n",
    "        for port in port_list:\n",
    "            port_scan(host,port)\n",
    "    except AttributeError:\n",
    "        print(\"Error. Please provide the command-line argument before running.\")"
   ]
  }
 ],
 "metadata": {
  "language_info": {
   "name": "python"
  },
  "orig_nbformat": 4
 },
 "nbformat": 4,
 "nbformat_minor": 2
}
