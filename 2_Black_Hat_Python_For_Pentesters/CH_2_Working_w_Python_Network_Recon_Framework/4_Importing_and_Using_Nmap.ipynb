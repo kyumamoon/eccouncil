{
 "cells": [
  {
   "attachments": {},
   "cell_type": "markdown",
   "metadata": {},
   "source": [
    "# **Importing Nmap**\n",
    "- Controlling nmap in python.\n",
    "- Powerful Network Tool"
   ]
  },
  {
   "attachments": {},
   "cell_type": "markdown",
   "metadata": {},
   "source": [
    "**Install Nmap Package**\n",
    "- python-nmap library\n",
    "- pip install python-nmap"
   ]
  },
  {
   "cell_type": "code",
   "execution_count": null,
   "metadata": {},
   "outputs": [],
   "source": [
    "import argparse\n",
    "import nmap\n",
    "\n",
    "def argument_parser():\n",
    "    # CMD LINE Program helper\n",
    "    \"\"\"Allow user to specify target host and port.\"\"\"\n",
    "    \n",
    "    parser = argparse.ArgumentParser(description=\"TCP Port Scanner. Accepts a hostname/IP address and list of ports to scan. Attempts to identify the service running on a port.\")\n",
    "    parser.add_argument(\"-o\",\"--host\",nargs=\"?\",help=\"Host IP Address\")\n",
    "    parser.add_argument(\"-p\",\"--ports\",nargs=\"?\",help=\"Comma-separated port list, such as '25,80,8080'\")\n",
    "\n",
    "    var_args = vars(parser.parse_args()) # Convert argument namespace to dictionary.\n",
    "    return var_args\n",
    "\n",
    "\n",
    "def nmap_scan(host_id,port_num):\n",
    "    \"\"\"Use nmap utility to check host ports for status.\"\"\"\n",
    "    nm_scan = nmap.PortScanner()\n",
    "    nm_scan.scan(host_id,port_num)\n",
    "\n",
    "    state = nm_scan[host_id]['tcp'][int(port_num)]['state'] # Indicate scan type and port number.\n",
    "    results = (\"[*] {host} tcp/{port} {state}\".format(host=host_id,port=port_num,state=state))\n",
    "\n",
    "    return results\n",
    "\n",
    "if __name__ == '__main__':\n",
    "    try:\n",
    "        user_args = argument_parser()\n",
    "        host = user_args[\"host\"]\n",
    "        port_list = user_args[\"ports\"].split(\",\") # Make a list from port list\n",
    "        for port in port_list:\n",
    "            print(nmap_scan(host,port))\n",
    "    except AttributeError:\n",
    "        print(\"Error. Please provide the command-line argument before running.\")"
   ]
  }
 ],
 "metadata": {
  "language_info": {
   "name": "python"
  },
  "orig_nbformat": 4
 },
 "nbformat": 4,
 "nbformat_minor": 2
}
