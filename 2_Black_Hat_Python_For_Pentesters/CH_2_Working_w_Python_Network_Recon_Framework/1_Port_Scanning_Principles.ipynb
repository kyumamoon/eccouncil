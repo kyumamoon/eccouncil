{
 "cells": [
  {
   "cell_type": "markdown",
   "metadata": {},
   "source": [
    "# **Port Scanning Principles**"
   ]
  },
  {
   "attachments": {},
   "cell_type": "markdown",
   "metadata": {},
   "source": [
    "**Why Network Recon?**\n",
    "- Tells a lot about target.\n",
    "    - Establish baseline to plan attack and determine tools.\n",
    "    - Describes network layout/topology, system structure, OS and possible applications.\n",
    "- Knowing this info can provide clues for possible vulnerabilities due to version and software type.\n",
    "- Internet research provides additional clues about the target.\n",
    "    - List of email addresses and how email name are formatted.\n",
    "    - Hierarchy and organization of target personnel\n",
    "    - Vendors and Customers\n",
    "    - Possible backdoors via third-party maintenance and support"
   ]
  },
  {
   "attachments": {},
   "cell_type": "markdown",
   "metadata": {},
   "source": [
    "**Consider when recon**\n",
    "- Identifying network topology\n",
    "- Find OS types and discovered hosts\n",
    "- Locate open ports, network services\n",
    "- Find network addresses of live hosts, firewalls, routers, etc\n",
    "- Consider list of potential vulnerabilities\n",
    "- Dont use tools that make a lot of noise; can crash host or even make host aware of presence."
   ]
  }
 ],
 "metadata": {
  "language_info": {
   "name": "python"
  },
  "orig_nbformat": 4
 },
 "nbformat": 4,
 "nbformat_minor": 2
}
