{
 "cells": [
  {
   "attachments": {},
   "cell_type": "markdown",
   "metadata": {},
   "source": [
    "# **Brute Force with Threads**"
   ]
  },
  {
   "attachments": {},
   "cell_type": "markdown",
   "metadata": {},
   "source": [
    "**Brute Force**\n",
    "- Labor intensive (in terms of processing power)\n",
    "- Multi-threaded/multi-processor parallelization is best option\n",
    "- Alternative to vanilla PYthon best: Python w/ compiled language, Cython, PyPy, Jython, IronPython, etc."
   ]
  },
  {
   "attachments": {},
   "cell_type": "markdown",
   "metadata": {},
   "source": [
    "https://github.com/moloch--/CrackPy"
   ]
  },
  {
   "attachments": {},
   "cell_type": "markdown",
   "metadata": {},
   "source": [
    "https://github.com/moloch--/CrackPy/blob/master/SimpleBrute.py"
   ]
  }
 ],
 "metadata": {
  "language_info": {
   "name": "python"
  },
  "orig_nbformat": 4
 },
 "nbformat": 4,
 "nbformat_minor": 2
}
