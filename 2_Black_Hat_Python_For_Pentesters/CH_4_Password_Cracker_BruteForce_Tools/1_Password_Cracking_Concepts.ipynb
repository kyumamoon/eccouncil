{
 "cells": [
  {
   "attachments": {},
   "cell_type": "markdown",
   "metadata": {},
   "source": [
    "# **Password Cracking Concepts**"
   ]
  },
  {
   "attachments": {},
   "cell_type": "markdown",
   "metadata": {},
   "source": [
    "- Password cracking is art and science of decrypting passwords.\n",
    "- Technically, passwords are hashed with a one-way algorithm.\n",
    "- Cracking is identifying what password creates a particular hash digest.\n",
    "- Password dumps are useful because they provide a large database of passwords and digests to start with. (rockyou)"
   ]
  },
  {
   "attachments": {},
   "cell_type": "markdown",
   "metadata": {},
   "source": [
    "**Types of Attacks**\n",
    "\n",
    "- Dictionary Attack:\n",
    "    - matching word dictionaries to passwords\n",
    "- Brute Force Attack:\n",
    "    - work through all possibl combinations\n",
    "- Rainbow Tables:\n",
    "    - pre-calculated password hash digests\n",
    "- Phishing/Social Engineering/Shoulder Surfing:\n",
    "    - Get someone to provide their password to you\n",
    "- Keylogger:\n",
    "    - Capture data directly from keyboard\n",
    "- Spidering:\n",
    "    - Create word list based on web crawl of corporate literature (buzzwords from target system or site, etc.)\n",
    "- Guessing:\n",
    "    - Focuesed brute force, e.g. \"FootballFan#1\" literally guessing."
   ]
  }
 ],
 "metadata": {
  "language_info": {
   "name": "python"
  },
  "orig_nbformat": 4
 },
 "nbformat": 4,
 "nbformat_minor": 2
}
