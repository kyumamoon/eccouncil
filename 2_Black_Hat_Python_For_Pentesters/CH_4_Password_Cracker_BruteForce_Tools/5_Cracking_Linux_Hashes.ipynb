{
 "cells": [
  {
   "attachments": {},
   "cell_type": "markdown",
   "metadata": {},
   "source": [
    "# **Cracking Linux Hashes**"
   ]
  },
  {
   "attachments": {},
   "cell_type": "markdown",
   "metadata": {},
   "source": [
    "**UNIX Passwords**\n",
    "\n",
    "- Attacks default UNIX OS Hashing\n",
    "- Requires user:password file and plain-text password file\n",
    "- Generate rainbow table in memory from plain-text passwords and determine if there is a match."
   ]
  },
  {
   "cell_type": "code",
   "execution_count": null,
   "metadata": {},
   "outputs": [],
   "source": [
    "#!/bin/python\n",
    "\"\"\"\n",
    "unix_password_cracker.py\n",
    "\n",
    "Purpose: Crack Unix hashed passwords\n",
    "\n",
    "Author: Cody Jackson\n",
    "\n",
    "Date: 12/29/2018\n",
    "########################\n",
    "Version 0.2\n",
    "    Added command-line argument parser\n",
    "Version 0.1\n",
    "    Initial build\n",
    "\"\"\"\n",
    "import argparse\n",
    "import crypt\n",
    "\n",
    "\n",
    "def argument_parser():\n",
    "    \"\"\"Allow user to specify plain-text password repository and username:password file.\"\"\"\n",
    "    parser = argparse.ArgumentParser(description=\"Crack Unix hashed passwords by generating a rainbow table.\")\n",
    "    parser.add_argument(\"--repo\", nargs=\"?\", default=\"./plaintext_repo.txt\", help=\"Location of the plain-text password \"\n",
    "                                                                                  \"file. Default: ./plaintext_repo.txt\")\n",
    "    parser.add_argument(\"--pass_file\", nargs=\"?\", default=\"./user_passwords.txt\", help=\"Location of the user:password \"\n",
    "                                                                                       \"file from the target system. \"\n",
    "                                                                                       \"Default: ./user_passwords.txt\")\n",
    "    var_args = vars(parser.parse_args())  # Convert argument namespace to dictionary\n",
    "\n",
    "    return var_args\n",
    "\n",
    "\n",
    "def password_check(hashed_pass):\n",
    "    \"\"\"Generate a hash digest of plain-text words, then compare to username password digest.\"\"\"\n",
    "    salt = hashed_pass[:2]\n",
    "    with open(plaintext_pwords) as repo:\n",
    "        for word in repo.readlines():\n",
    "            word = word.strip(\"\\n\")\n",
    "            digest = crypt.crypt(word, salt)\n",
    "            if digest == hashed_pass:\n",
    "                print(\"[+] Found password: {}\\n\".format(word))\n",
    "\n",
    "\n",
    "def parse_file(usernames):\n",
    "    \"\"\"Parse a username:password file to find hashed passwords for comparison.\"\"\"\n",
    "    with open(usernames) as pass_file:\n",
    "        for line in pass_file.readlines():\n",
    "            if \":\" in line:\n",
    "                username = line.split(\":\")[0]\n",
    "                pass_digest = line.split(\":\")[1].strip(\" \")\n",
    "                print(\"[*] Cracking password for: {}\".format(username))\n",
    "                password_check(pass_digest)\n",
    "\n",
    "\n",
    "if __name__ == \"__main__\":\n",
    "    # Get command-line arguments\n",
    "    user_args = argument_parser()\n",
    "    plaintext_pwords = user_args[\"repo\"]\n",
    "    digests = user_args[\"pass_file\"]\n",
    "\n",
    "    parse_file(digests)"
   ]
  }
 ],
 "metadata": {
  "language_info": {
   "name": "python"
  },
  "orig_nbformat": 4
 },
 "nbformat": 4,
 "nbformat_minor": 2
}
