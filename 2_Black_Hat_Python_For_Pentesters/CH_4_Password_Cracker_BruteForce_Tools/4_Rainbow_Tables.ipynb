{
 "cells": [
  {
   "attachments": {},
   "cell_type": "markdown",
   "metadata": {},
   "source": [
    "# **Rainbow Tables**\n",
    "- Pre-calculated rainbow tables are available (http://freerainbowtables.com)\n",
    "- Python wrapper around compiled language for best results.\n",
    "    - Alternatives include PyPy and Cython."
   ]
  },
  {
   "attachments": {},
   "cell_type": "markdown",
   "metadata": {},
   "source": [
    "https://github.com/moloch--/RCrackPy"
   ]
  }
 ],
 "metadata": {
  "language_info": {
   "name": "python"
  },
  "orig_nbformat": 4
 },
 "nbformat": 4,
 "nbformat_minor": 2
}
